{
 "cells": [
  {
   "cell_type": "markdown",
   "metadata": {},
   "source": [
    "## Import Relevant Libraries for Accessing and Utilizing the Yelp API"
   ]
  },
  {
   "cell_type": "code",
   "execution_count": 1,
   "metadata": {},
   "outputs": [],
   "source": [
    "import numpy as np\n",
    "import requests\n",
    "from bs4 import BeautifulSoup\n",
    "import numpy as np\n",
    "import pandas as pd\n",
    "import json"
   ]
  },
  {
   "cell_type": "markdown",
   "metadata": {},
   "source": [
    "Read in json file with personal api key"
   ]
  },
  {
   "cell_type": "code",
   "execution_count": 2,
   "metadata": {},
   "outputs": [],
   "source": [
    "with open('yelp_api.json', 'r') as f:\n",
    "    keys = json.loads(f.read())"
   ]
  },
  {
   "cell_type": "markdown",
   "metadata": {},
   "source": [
    "Import Yelp client"
   ]
  },
  {
   "cell_type": "code",
   "execution_count": 3,
   "metadata": {},
   "outputs": [],
   "source": [
    "from yelp.client import Client"
   ]
  },
  {
   "cell_type": "code",
   "execution_count": 4,
   "metadata": {},
   "outputs": [],
   "source": [
    "API_KEY = keys[\"key\"] #  Replace this with your real API key"
   ]
  },
  {
   "cell_type": "markdown",
   "metadata": {},
   "source": [
    "## Set up Paremeters to Collect Businesses in Safety/Security Lifeline\n",
    "    * This is done by applying appropriate business categories in the search parameters\n",
    "    * All of the Yelp category labels can be found here:\n",
    "        - https://www.yelp.com/developers/documentation/v3/all_category_list\n",
    "    * The relevant category labels for the first lifeline are:\n",
    "        - firedepartments\n",
    "        - policedepartments\n",
    "    * We are also entering other parameters:\n",
    "        - Setting limit to 50 which is the max amount of businesses we can return in one\n",
    "          search\n",
    "        - Setting the radius to the max of 40,000 meters (25 miles)\n",
    "        - Picking a city to do the search in (this can also be done with state or zip code)"
   ]
  },
  {
   "cell_type": "code",
   "execution_count": 5,
   "metadata": {},
   "outputs": [],
   "source": [
    "endpoint = 'https://api.yelp.com/v3/businesses/search'\n",
    "headers = {'Authorization': 'bearer %s' % API_KEY}\n",
    "parameter = {'categories': ['firedepartments', 'policedepartments'],\n",
    "             'limit': 50,\n",
    "             'radius': 40000,\n",
    "             'location': 'Miami',\n",
    "            }"
   ]
  },
  {
   "cell_type": "markdown",
   "metadata": {},
   "source": [
    "Set the businesses our search will return to a variable, and check to make sure the hit on the API was successful.  If our status code is a 200, we are good to go.  If a 400 or 500 value is returned there was something wrong.  400 is user error, 500 is on Yelp's end."
   ]
  },
  {
   "cell_type": "code",
   "execution_count": 6,
   "metadata": {},
   "outputs": [
    {
     "data": {
      "text/plain": [
       "200"
      ]
     },
     "execution_count": 6,
     "metadata": {},
     "output_type": "execute_result"
    }
   ],
   "source": [
    "res = requests.get(url=endpoint, headers=headers, params=parameter)\n",
    "res.status_code"
   ]
  },
  {
   "cell_type": "markdown",
   "metadata": {},
   "source": [
    "Set the result to a json file so that we can easily read through it and grab relevant information for our dataframe."
   ]
  },
  {
   "cell_type": "code",
   "execution_count": 7,
   "metadata": {},
   "outputs": [],
   "source": [
    "business = res.json()"
   ]
  },
  {
   "cell_type": "markdown",
   "metadata": {},
   "source": [
    "Check to see how many businesses we returned.  If the number is 50, there may be more and we will run the search code again and add a 'offset': '50' parameter to grab the next set of 50 businesses.  In this case we won't have to do that because there are less than 50 police and fire departments in Miami."
   ]
  },
  {
   "cell_type": "code",
   "execution_count": 8,
   "metadata": {},
   "outputs": [
    {
     "data": {
      "text/plain": [
       "8"
      ]
     },
     "execution_count": 8,
     "metadata": {},
     "output_type": "execute_result"
    }
   ],
   "source": [
    "#index into business with the label ['businesses'] which is where each set of information we \n",
    "#want is located\n",
    "len(business['businesses'])"
   ]
  },
  {
   "cell_type": "markdown",
   "metadata": {},
   "source": [
    "## Create a for loop to Extract the Name and Category of Each Business"
   ]
  },
  {
   "cell_type": "code",
   "execution_count": 9,
   "metadata": {},
   "outputs": [],
   "source": [
    "names = []       #assign an empty list to a variable to be populated with business names\n",
    "categories = []  #do the same thing for the business categories\n",
    "\n",
    "for i in range(len(business['businesses'])):        \n",
    "    names.append(business['businesses'][i]['name'])\n",
    "    categories.append(business['businesses'][i]['categories'][0]['alias']) "
   ]
  },
  {
   "cell_type": "markdown",
   "metadata": {},
   "source": [
    "## Create a Dataframe for the Lifeline 1 Businesses\n",
    "    \n",
    "    *Columns will be Business, Category, and Lifeline"
   ]
  },
  {
   "cell_type": "code",
   "execution_count": 10,
   "metadata": {},
   "outputs": [],
   "source": [
    "safety_df = pd.DataFrame(columns=['Business', 'Category'])\n",
    "safety_df['Business'] = names\n",
    "safety_df['Category'] = categories\n",
    "safety_df['Lifeline'] = 1"
   ]
  },
  {
   "cell_type": "code",
   "execution_count": 11,
   "metadata": {},
   "outputs": [
    {
     "data": {
      "text/html": [
       "<div>\n",
       "<style scoped>\n",
       "    .dataframe tbody tr th:only-of-type {\n",
       "        vertical-align: middle;\n",
       "    }\n",
       "\n",
       "    .dataframe tbody tr th {\n",
       "        vertical-align: top;\n",
       "    }\n",
       "\n",
       "    .dataframe thead th {\n",
       "        text-align: right;\n",
       "    }\n",
       "</style>\n",
       "<table border=\"1\" class=\"dataframe\">\n",
       "  <thead>\n",
       "    <tr style=\"text-align: right;\">\n",
       "      <th></th>\n",
       "      <th>Business</th>\n",
       "      <th>Category</th>\n",
       "      <th>Lifeline</th>\n",
       "    </tr>\n",
       "  </thead>\n",
       "  <tbody>\n",
       "    <tr>\n",
       "      <th>0</th>\n",
       "      <td>Miami Dade Police - Kendall Station</td>\n",
       "      <td>policedepartments</td>\n",
       "      <td>1</td>\n",
       "    </tr>\n",
       "    <tr>\n",
       "      <th>1</th>\n",
       "      <td>Miami Police Department</td>\n",
       "      <td>policedepartments</td>\n",
       "      <td>1</td>\n",
       "    </tr>\n",
       "    <tr>\n",
       "      <th>2</th>\n",
       "      <td>MDPD Headquarters</td>\n",
       "      <td>policedepartments</td>\n",
       "      <td>1</td>\n",
       "    </tr>\n",
       "    <tr>\n",
       "      <th>3</th>\n",
       "      <td>Miami-Dade Police</td>\n",
       "      <td>policedepartments</td>\n",
       "      <td>1</td>\n",
       "    </tr>\n",
       "    <tr>\n",
       "      <th>4</th>\n",
       "      <td>Miami Dade Fire Rescue HQ</td>\n",
       "      <td>firedepartments</td>\n",
       "      <td>1</td>\n",
       "    </tr>\n",
       "  </tbody>\n",
       "</table>\n",
       "</div>"
      ],
      "text/plain": [
       "                              Business           Category  Lifeline\n",
       "0  Miami Dade Police - Kendall Station  policedepartments         1\n",
       "1              Miami Police Department  policedepartments         1\n",
       "2                    MDPD Headquarters  policedepartments         1\n",
       "3                    Miami-Dade Police  policedepartments         1\n",
       "4            Miami Dade Fire Rescue HQ    firedepartments         1"
      ]
     },
     "execution_count": 11,
     "metadata": {},
     "output_type": "execute_result"
    }
   ],
   "source": [
    "safety_df.head()"
   ]
  },
  {
   "cell_type": "markdown",
   "metadata": {},
   "source": [
    "## Repeat This Process for the Other Six Lifelines\n",
    "\n",
    "    * Notice for some lifelines (3 and 4) we have to run the code multiple times using \n",
    "      offset since there are more than 50 businesses in those categories"
   ]
  },
  {
   "cell_type": "markdown",
   "metadata": {},
   "source": [
    "## Lifeline 2 - Food, Water, Shelter"
   ]
  },
  {
   "cell_type": "code",
   "execution_count": 12,
   "metadata": {},
   "outputs": [],
   "source": [
    "endpoint = 'https://api.yelp.com/v3/businesses/search'\n",
    "headers = {'Authorization': 'bearer %s' % API_KEY}\n",
    "parameter = {'categories': ['foodbanks',\n",
    "                            'animalshelters',\n",
    "                            'homelessshelters',\n",
    "                            'communitycenters'],\n",
    "             'limit': 50,\n",
    "             'radius': 40000,\n",
    "             'location': 'Miami',\n",
    "            }"
   ]
  },
  {
   "cell_type": "code",
   "execution_count": 13,
   "metadata": {},
   "outputs": [
    {
     "data": {
      "text/plain": [
       "200"
      ]
     },
     "execution_count": 13,
     "metadata": {},
     "output_type": "execute_result"
    }
   ],
   "source": [
    "res = requests.get(url=endpoint, headers=headers, params=parameter)\n",
    "res.status_code"
   ]
  },
  {
   "cell_type": "code",
   "execution_count": 14,
   "metadata": {},
   "outputs": [
    {
     "data": {
      "text/plain": [
       "9"
      ]
     },
     "execution_count": 14,
     "metadata": {},
     "output_type": "execute_result"
    }
   ],
   "source": [
    "business = res.json()\n",
    "len(business['businesses'])"
   ]
  },
  {
   "cell_type": "code",
   "execution_count": 15,
   "metadata": {},
   "outputs": [],
   "source": [
    "names = []\n",
    "categories = []\n",
    "for i in range(len(business['businesses'])):        \n",
    "    names.append(business['businesses'][i]['name'])\n",
    "    categories.append(business['businesses'][i]['categories'][0]['alias']) "
   ]
  },
  {
   "cell_type": "code",
   "execution_count": 16,
   "metadata": {},
   "outputs": [
    {
     "data": {
      "text/html": [
       "<div>\n",
       "<style scoped>\n",
       "    .dataframe tbody tr th:only-of-type {\n",
       "        vertical-align: middle;\n",
       "    }\n",
       "\n",
       "    .dataframe tbody tr th {\n",
       "        vertical-align: top;\n",
       "    }\n",
       "\n",
       "    .dataframe thead th {\n",
       "        text-align: right;\n",
       "    }\n",
       "</style>\n",
       "<table border=\"1\" class=\"dataframe\">\n",
       "  <thead>\n",
       "    <tr style=\"text-align: right;\">\n",
       "      <th></th>\n",
       "      <th>Business</th>\n",
       "      <th>Category</th>\n",
       "      <th>Lifeline</th>\n",
       "    </tr>\n",
       "  </thead>\n",
       "  <tbody>\n",
       "    <tr>\n",
       "      <th>0</th>\n",
       "      <td>Animal Welfare Society of South Florida</td>\n",
       "      <td>vet</td>\n",
       "      <td>2</td>\n",
       "    </tr>\n",
       "    <tr>\n",
       "      <th>1</th>\n",
       "      <td>The Cat Network</td>\n",
       "      <td>animalshelters</td>\n",
       "      <td>2</td>\n",
       "    </tr>\n",
       "    <tr>\n",
       "      <th>2</th>\n",
       "      <td>Miami Dade County Animal Services</td>\n",
       "      <td>animalshelters</td>\n",
       "      <td>2</td>\n",
       "    </tr>\n",
       "    <tr>\n",
       "      <th>3</th>\n",
       "      <td>Compassionate Pug Rescue</td>\n",
       "      <td>animalshelters</td>\n",
       "      <td>2</td>\n",
       "    </tr>\n",
       "    <tr>\n",
       "      <th>4</th>\n",
       "      <td>Miccosukee Tribe of Indians</td>\n",
       "      <td>communitycenters</td>\n",
       "      <td>2</td>\n",
       "    </tr>\n",
       "  </tbody>\n",
       "</table>\n",
       "</div>"
      ],
      "text/plain": [
       "                                  Business          Category  Lifeline\n",
       "0  Animal Welfare Society of South Florida               vet         2\n",
       "1                          The Cat Network    animalshelters         2\n",
       "2        Miami Dade County Animal Services    animalshelters         2\n",
       "3                 Compassionate Pug Rescue    animalshelters         2\n",
       "4              Miccosukee Tribe of Indians  communitycenters         2"
      ]
     },
     "execution_count": 16,
     "metadata": {},
     "output_type": "execute_result"
    }
   ],
   "source": [
    "food_shelter_df = pd.DataFrame(columns=['Business', 'Category'])\n",
    "food_shelter_df['Business'] = names\n",
    "food_shelter_df['Category'] = categories\n",
    "food_shelter_df['Lifeline'] = 2\n",
    "food_shelter_df.head()"
   ]
  },
  {
   "cell_type": "markdown",
   "metadata": {},
   "source": [
    "## Lifeline 3 - Health and Medical"
   ]
  },
  {
   "cell_type": "code",
   "execution_count": 17,
   "metadata": {},
   "outputs": [],
   "source": [
    "endpoint = 'https://api.yelp.com/v3/businesses/search'\n",
    "headers = {'Authorization': 'bearer %s' % API_KEY}\n",
    "parameter = {'categories': ['emergencymedicine',\n",
    "                            'emergencyrooms',\n",
    "                            'hospitals',\n",
    "                            'medcenters'],\n",
    "             'limit': 50,\n",
    "             'radius': 40000,\n",
    "             'location': 'Miami',\n",
    "            }"
   ]
  },
  {
   "cell_type": "code",
   "execution_count": 18,
   "metadata": {},
   "outputs": [
    {
     "data": {
      "text/plain": [
       "200"
      ]
     },
     "execution_count": 18,
     "metadata": {},
     "output_type": "execute_result"
    }
   ],
   "source": [
    "res = requests.get(url=endpoint, headers=headers, params=parameter)\n",
    "res.status_code"
   ]
  },
  {
   "cell_type": "markdown",
   "metadata": {},
   "source": [
    "In this case the length of the first batch of businesses returned is 50 so we will run the above code again with the offset parameter as well as the for loop"
   ]
  },
  {
   "cell_type": "code",
   "execution_count": 19,
   "metadata": {},
   "outputs": [
    {
     "data": {
      "text/plain": [
       "50"
      ]
     },
     "execution_count": 19,
     "metadata": {},
     "output_type": "execute_result"
    }
   ],
   "source": [
    "business = res.json()\n",
    "len(business['businesses'])"
   ]
  },
  {
   "cell_type": "code",
   "execution_count": 20,
   "metadata": {},
   "outputs": [],
   "source": [
    "names = []\n",
    "categories = []\n",
    "for i in range(len(business['businesses'])):        \n",
    "    names.append(business['businesses'][i]['name'])\n",
    "    categories.append(business['businesses'][i]['categories'][0]['alias'])"
   ]
  },
  {
   "cell_type": "code",
   "execution_count": 21,
   "metadata": {},
   "outputs": [],
   "source": [
    "#adding the offset parameter \n",
    "endpoint = 'https://api.yelp.com/v3/businesses/search'\n",
    "headers = {'Authorization': 'bearer %s' % API_KEY}\n",
    "parameter = {'categories': ['emergencymedicine',\n",
    "                            'emergencyrooms',\n",
    "                            'hospitals',\n",
    "                            'medcenters'],\n",
    "             'offset': 50,\n",
    "             'limit': 50,\n",
    "             'radius': 40000,\n",
    "             'location': 'Miami',\n",
    "            }"
   ]
  },
  {
   "cell_type": "markdown",
   "metadata": {},
   "source": [
    "50 more were returned which means we will have to repeat the process a third time"
   ]
  },
  {
   "cell_type": "code",
   "execution_count": 22,
   "metadata": {},
   "outputs": [
    {
     "data": {
      "text/plain": [
       "50"
      ]
     },
     "execution_count": 22,
     "metadata": {},
     "output_type": "execute_result"
    }
   ],
   "source": [
    "business = res.json()\n",
    "len(business['businesses'])"
   ]
  },
  {
   "cell_type": "code",
   "execution_count": 23,
   "metadata": {},
   "outputs": [],
   "source": [
    "#do the for loop again but do not set the names and categories to an empty list this time\n",
    "#because it would overwrite the first 50 businesses\n",
    "for i in range(len(business['businesses'])):        \n",
    "    names.append(business['businesses'][i]['name'])\n",
    "    categories.append(business['businesses'][i]['categories'][0]['alias'])"
   ]
  },
  {
   "cell_type": "code",
   "execution_count": 24,
   "metadata": {},
   "outputs": [
    {
     "data": {
      "text/plain": [
       "100"
      ]
     },
     "execution_count": 24,
     "metadata": {},
     "output_type": "execute_result"
    }
   ],
   "source": [
    "#make sure we now have 100 entries in our names list\n",
    "len(names)"
   ]
  },
  {
   "cell_type": "markdown",
   "metadata": {},
   "source": [
    "Set the offset to 100 this time so we return businesses starting with the 101st in the search"
   ]
  },
  {
   "cell_type": "code",
   "execution_count": 25,
   "metadata": {},
   "outputs": [],
   "source": [
    "#offset now set to 100\n",
    "endpoint = 'https://api.yelp.com/v3/businesses/search'\n",
    "headers = {'Authorization': 'bearer %s' % API_KEY}\n",
    "parameter = {'categories': ['emergencymedicine',\n",
    "                            'emergencyrooms',\n",
    "                            'hospitals',\n",
    "                            'medcenters'],\n",
    "             'offset': 100,\n",
    "             'limit': 50,\n",
    "             'radius': 40000,\n",
    "             'location': 'Miami',\n",
    "            }"
   ]
  },
  {
   "cell_type": "code",
   "execution_count": 26,
   "metadata": {},
   "outputs": [
    {
     "data": {
      "text/plain": [
       "200"
      ]
     },
     "execution_count": 26,
     "metadata": {},
     "output_type": "execute_result"
    }
   ],
   "source": [
    "res = requests.get(url=endpoint, headers=headers, params=parameter)\n",
    "res.status_code"
   ]
  },
  {
   "cell_type": "raw",
   "metadata": {},
   "source": [
    "We still get fifty businesses here, so we repeat the process until this number is less than 50"
   ]
  },
  {
   "cell_type": "code",
   "execution_count": 27,
   "metadata": {},
   "outputs": [
    {
     "data": {
      "text/plain": [
       "50"
      ]
     },
     "execution_count": 27,
     "metadata": {},
     "output_type": "execute_result"
    }
   ],
   "source": [
    "business = res.json()\n",
    "len(business['businesses'])"
   ]
  },
  {
   "cell_type": "code",
   "execution_count": 28,
   "metadata": {},
   "outputs": [],
   "source": [
    "for i in range(len(business['businesses'])):        \n",
    "    names.append(business['businesses'][i]['name'])\n",
    "    categories.append(business['businesses'][i]['categories'][0]['alias'])"
   ]
  },
  {
   "cell_type": "code",
   "execution_count": 29,
   "metadata": {},
   "outputs": [
    {
     "data": {
      "text/plain": [
       "150"
      ]
     },
     "execution_count": 29,
     "metadata": {},
     "output_type": "execute_result"
    }
   ],
   "source": [
    "len(names)"
   ]
  },
  {
   "cell_type": "code",
   "execution_count": 30,
   "metadata": {},
   "outputs": [],
   "source": [
    "#offset now set to 150\n",
    "endpoint = 'https://api.yelp.com/v3/businesses/search'\n",
    "headers = {'Authorization': 'bearer %s' % API_KEY}\n",
    "parameter = {'categories': ['emergencymedicine',\n",
    "                            'emergencyrooms',\n",
    "                            'hospitals',\n",
    "                            'medcenters'],\n",
    "             'offset': 150,\n",
    "             'limit': 50,\n",
    "             'radius': 40000,\n",
    "             'location': 'Miami',\n",
    "            }"
   ]
  },
  {
   "cell_type": "code",
   "execution_count": 31,
   "metadata": {},
   "outputs": [
    {
     "data": {
      "text/plain": [
       "200"
      ]
     },
     "execution_count": 31,
     "metadata": {},
     "output_type": "execute_result"
    }
   ],
   "source": [
    "res = requests.get(url=endpoint, headers=headers, params=parameter)\n",
    "res.status_code"
   ]
  },
  {
   "cell_type": "code",
   "execution_count": 32,
   "metadata": {},
   "outputs": [
    {
     "data": {
      "text/plain": [
       "50"
      ]
     },
     "execution_count": 32,
     "metadata": {},
     "output_type": "execute_result"
    }
   ],
   "source": [
    "len(business['businesses'])"
   ]
  },
  {
   "cell_type": "code",
   "execution_count": 33,
   "metadata": {},
   "outputs": [],
   "source": [
    "for i in range(len(business['businesses'])):        \n",
    "    names.append(business['businesses'][i]['name'])\n",
    "    categories.append(business['businesses'][i]['categories'][0]['alias'])"
   ]
  },
  {
   "cell_type": "code",
   "execution_count": 34,
   "metadata": {},
   "outputs": [],
   "source": [
    "#offset now set to 200\n",
    "endpoint = 'https://api.yelp.com/v3/businesses/search'\n",
    "headers = {'Authorization': 'bearer %s' % API_KEY}\n",
    "parameter = {'categories': ['emergencymedicine',\n",
    "                            'emergencyrooms',\n",
    "                            'hospitals',\n",
    "                            'medcenters'],\n",
    "             'offset': 200,\n",
    "             'limit': 50,\n",
    "             'radius': 40000,\n",
    "             'location': 'Miami',\n",
    "            }"
   ]
  },
  {
   "cell_type": "code",
   "execution_count": 35,
   "metadata": {},
   "outputs": [
    {
     "data": {
      "text/plain": [
       "200"
      ]
     },
     "execution_count": 35,
     "metadata": {},
     "output_type": "execute_result"
    }
   ],
   "source": [
    "res = requests.get(url=endpoint, headers=headers, params=parameter)\n",
    "res.status_code"
   ]
  },
  {
   "cell_type": "code",
   "execution_count": 36,
   "metadata": {},
   "outputs": [
    {
     "data": {
      "text/plain": [
       "50"
      ]
     },
     "execution_count": 36,
     "metadata": {},
     "output_type": "execute_result"
    }
   ],
   "source": [
    "len(business['businesses'])"
   ]
  },
  {
   "cell_type": "code",
   "execution_count": 37,
   "metadata": {},
   "outputs": [],
   "source": [
    "for i in range(len(business['businesses'])):        \n",
    "    names.append(business['businesses'][i]['name'])\n",
    "    categories.append(business['businesses'][i]['categories'][0]['alias'])"
   ]
  },
  {
   "cell_type": "code",
   "execution_count": 38,
   "metadata": {},
   "outputs": [
    {
     "data": {
      "text/plain": [
       "250"
      ]
     },
     "execution_count": 38,
     "metadata": {},
     "output_type": "execute_result"
    }
   ],
   "source": [
    "len(names)"
   ]
  },
  {
   "cell_type": "code",
   "execution_count": 39,
   "metadata": {},
   "outputs": [],
   "source": [
    "#offset now set to 250\n",
    "endpoint = 'https://api.yelp.com/v3/businesses/search'\n",
    "headers = {'Authorization': 'bearer %s' % API_KEY}\n",
    "parameter = {'categories': ['emergencymedicine',\n",
    "                            'emergencyrooms',\n",
    "                            'hospitals',\n",
    "                            'medcenters'],\n",
    "             'offset': 250,\n",
    "             'limit': 50,\n",
    "             'radius': 40000,\n",
    "             'location': 'Miami',\n",
    "            }"
   ]
  },
  {
   "cell_type": "code",
   "execution_count": 40,
   "metadata": {},
   "outputs": [
    {
     "data": {
      "text/plain": [
       "200"
      ]
     },
     "execution_count": 40,
     "metadata": {},
     "output_type": "execute_result"
    }
   ],
   "source": [
    "res = requests.get(url=endpoint, headers=headers, params=parameter)\n",
    "res.status_code"
   ]
  },
  {
   "cell_type": "code",
   "execution_count": 41,
   "metadata": {},
   "outputs": [
    {
     "data": {
      "text/plain": [
       "50"
      ]
     },
     "execution_count": 41,
     "metadata": {},
     "output_type": "execute_result"
    }
   ],
   "source": [
    "len(business['businesses'])"
   ]
  },
  {
   "cell_type": "code",
   "execution_count": 42,
   "metadata": {},
   "outputs": [],
   "source": [
    "for i in range(len(business['businesses'])):        \n",
    "    names.append(business['businesses'][i]['name'])\n",
    "    categories.append(business['businesses'][i]['categories'][0]['alias'])"
   ]
  },
  {
   "cell_type": "code",
   "execution_count": 43,
   "metadata": {},
   "outputs": [
    {
     "data": {
      "text/plain": [
       "300"
      ]
     },
     "execution_count": 43,
     "metadata": {},
     "output_type": "execute_result"
    }
   ],
   "source": [
    "len(names)"
   ]
  },
  {
   "cell_type": "code",
   "execution_count": 44,
   "metadata": {},
   "outputs": [],
   "source": [
    "#offset now set to 300\n",
    "endpoint = 'https://api.yelp.com/v3/businesses/search'\n",
    "headers = {'Authorization': 'bearer %s' % API_KEY}\n",
    "parameter = {'categories': ['emergencymedicine',\n",
    "                            'emergencyrooms',\n",
    "                            'hospitals',\n",
    "                            'medcenters'],\n",
    "             'offset': 300,\n",
    "             'limit': 50,\n",
    "             'radius': 40000,\n",
    "             'location': 'Miami',\n",
    "            }"
   ]
  },
  {
   "cell_type": "code",
   "execution_count": 45,
   "metadata": {},
   "outputs": [
    {
     "data": {
      "text/plain": [
       "200"
      ]
     },
     "execution_count": 45,
     "metadata": {},
     "output_type": "execute_result"
    }
   ],
   "source": [
    "res = requests.get(url=endpoint, headers=headers, params=parameter)\n",
    "res.status_code"
   ]
  },
  {
   "cell_type": "code",
   "execution_count": 46,
   "metadata": {},
   "outputs": [
    {
     "data": {
      "text/plain": [
       "0"
      ]
     },
     "execution_count": 46,
     "metadata": {},
     "output_type": "execute_result"
    }
   ],
   "source": [
    "business = res.json()\n",
    "len(business['businesses'])"
   ]
  },
  {
   "cell_type": "code",
   "execution_count": 47,
   "metadata": {},
   "outputs": [
    {
     "data": {
      "text/plain": [
       "300"
      ]
     },
     "execution_count": 47,
     "metadata": {},
     "output_type": "execute_result"
    }
   ],
   "source": [
    "len(names)"
   ]
  },
  {
   "cell_type": "code",
   "execution_count": 48,
   "metadata": {},
   "outputs": [
    {
     "data": {
      "text/html": [
       "<div>\n",
       "<style scoped>\n",
       "    .dataframe tbody tr th:only-of-type {\n",
       "        vertical-align: middle;\n",
       "    }\n",
       "\n",
       "    .dataframe tbody tr th {\n",
       "        vertical-align: top;\n",
       "    }\n",
       "\n",
       "    .dataframe thead th {\n",
       "        text-align: right;\n",
       "    }\n",
       "</style>\n",
       "<table border=\"1\" class=\"dataframe\">\n",
       "  <thead>\n",
       "    <tr style=\"text-align: right;\">\n",
       "      <th></th>\n",
       "      <th>Business</th>\n",
       "      <th>Category</th>\n",
       "      <th>Lifeline</th>\n",
       "    </tr>\n",
       "  </thead>\n",
       "  <tbody>\n",
       "    <tr>\n",
       "      <th>0</th>\n",
       "      <td>Animal Emergency Clinic of South Florida</td>\n",
       "      <td>vet</td>\n",
       "      <td>3</td>\n",
       "    </tr>\n",
       "    <tr>\n",
       "      <th>1</th>\n",
       "      <td>Nicklaus Children's Hospital</td>\n",
       "      <td>hospitals</td>\n",
       "      <td>3</td>\n",
       "    </tr>\n",
       "    <tr>\n",
       "      <th>2</th>\n",
       "      <td>Baptist Hospital</td>\n",
       "      <td>medcenters</td>\n",
       "      <td>3</td>\n",
       "    </tr>\n",
       "    <tr>\n",
       "      <th>3</th>\n",
       "      <td>The Miami Medical Center</td>\n",
       "      <td>medcenters</td>\n",
       "      <td>3</td>\n",
       "    </tr>\n",
       "    <tr>\n",
       "      <th>4</th>\n",
       "      <td>University of Miami Hospital</td>\n",
       "      <td>medcenters</td>\n",
       "      <td>3</td>\n",
       "    </tr>\n",
       "  </tbody>\n",
       "</table>\n",
       "</div>"
      ],
      "text/plain": [
       "                                   Business    Category  Lifeline\n",
       "0  Animal Emergency Clinic of South Florida         vet         3\n",
       "1              Nicklaus Children's Hospital   hospitals         3\n",
       "2                          Baptist Hospital  medcenters         3\n",
       "3                  The Miami Medical Center  medcenters         3\n",
       "4              University of Miami Hospital  medcenters         3"
      ]
     },
     "execution_count": 48,
     "metadata": {},
     "output_type": "execute_result"
    }
   ],
   "source": [
    "health_med_df = pd.DataFrame(columns=['Business', 'Category'])\n",
    "health_med_df['Business'] = names\n",
    "health_med_df['Category'] = categories\n",
    "health_med_df['Lifeline'] = 3\n",
    "health_med_df.head()"
   ]
  },
  {
   "cell_type": "markdown",
   "metadata": {},
   "source": [
    "## Lifeline 4 - Energy (Power and Fuel)"
   ]
  },
  {
   "cell_type": "code",
   "execution_count": 49,
   "metadata": {},
   "outputs": [],
   "source": [
    "endpoint = 'https://api.yelp.com/v3/businesses/search'\n",
    "headers = {'Authorization': 'bearer %s' % API_KEY}\n",
    "parameter = {'categories': ['fueldocks',\n",
    "                            'servicestations',\n",
    "                            'utilities',\n",
    "                            'electricitysuppliers',\n",
    "                            'naturalgassuppliers',\n",
    "                            'watersuppliers'],\n",
    "             'limit': 50,\n",
    "             'radius': 40000,\n",
    "             'location': 'Miami',\n",
    "            }"
   ]
  },
  {
   "cell_type": "code",
   "execution_count": 50,
   "metadata": {},
   "outputs": [
    {
     "data": {
      "text/plain": [
       "200"
      ]
     },
     "execution_count": 50,
     "metadata": {},
     "output_type": "execute_result"
    }
   ],
   "source": [
    "res = requests.get(url=endpoint, headers=headers, params=parameter)\n",
    "res.status_code"
   ]
  },
  {
   "cell_type": "code",
   "execution_count": 51,
   "metadata": {},
   "outputs": [
    {
     "data": {
      "text/plain": [
       "50"
      ]
     },
     "execution_count": 51,
     "metadata": {},
     "output_type": "execute_result"
    }
   ],
   "source": [
    "business = res.json()\n",
    "len(business['businesses'])"
   ]
  },
  {
   "cell_type": "code",
   "execution_count": 52,
   "metadata": {},
   "outputs": [],
   "source": [
    "names = []\n",
    "categories = []\n",
    "for i in range(len(business['businesses'])):        \n",
    "    names.append(business['businesses'][i]['name'])\n",
    "    categories.append(business['businesses'][i]['categories'][0]['alias'])"
   ]
  },
  {
   "cell_type": "code",
   "execution_count": 53,
   "metadata": {},
   "outputs": [],
   "source": [
    "endpoint = 'https://api.yelp.com/v3/businesses/search'\n",
    "headers = {'Authorization': 'bearer %s' % API_KEY}\n",
    "parameter = {'categories': ['fueldocks',\n",
    "                            'servicestations',\n",
    "                            'utilities',\n",
    "                            'electricitysuppliers',\n",
    "                            'naturalgassuppliers',\n",
    "                            'watersuppliers'],\n",
    "             'offset': 50,\n",
    "             'limit': 50,\n",
    "             'radius': 40000,\n",
    "             'location': 'Miami',\n",
    "            }"
   ]
  },
  {
   "cell_type": "code",
   "execution_count": 54,
   "metadata": {},
   "outputs": [
    {
     "data": {
      "text/plain": [
       "200"
      ]
     },
     "execution_count": 54,
     "metadata": {},
     "output_type": "execute_result"
    }
   ],
   "source": [
    "res = requests.get(url=endpoint, headers=headers, params=parameter)\n",
    "res.status_code"
   ]
  },
  {
   "cell_type": "code",
   "execution_count": 55,
   "metadata": {},
   "outputs": [
    {
     "data": {
      "text/plain": [
       "50"
      ]
     },
     "execution_count": 55,
     "metadata": {},
     "output_type": "execute_result"
    }
   ],
   "source": [
    "business = res.json()\n",
    "len(business['businesses'])"
   ]
  },
  {
   "cell_type": "code",
   "execution_count": 56,
   "metadata": {},
   "outputs": [],
   "source": [
    "for i in range(len(business['businesses'])):        \n",
    "    names.append(business['businesses'][i]['name'])\n",
    "    categories.append(business['businesses'][i]['categories'][0]['alias'])"
   ]
  },
  {
   "cell_type": "code",
   "execution_count": 57,
   "metadata": {},
   "outputs": [
    {
     "data": {
      "text/plain": [
       "100"
      ]
     },
     "execution_count": 57,
     "metadata": {},
     "output_type": "execute_result"
    }
   ],
   "source": [
    "len(names)"
   ]
  },
  {
   "cell_type": "code",
   "execution_count": 58,
   "metadata": {},
   "outputs": [],
   "source": [
    "endpoint = 'https://api.yelp.com/v3/businesses/search'\n",
    "headers = {'Authorization': 'bearer %s' % API_KEY}\n",
    "parameter = {'categories': ['fueldocks',\n",
    "                            'servicestations',\n",
    "                            'utilities',\n",
    "                            'electricitysuppliers',\n",
    "                            'naturalgassuppliers',\n",
    "                            'watersuppliers'],\n",
    "             'offset': 100,\n",
    "             'limit': 50,\n",
    "             'radius': 40000,\n",
    "             'location': 'Miami',\n",
    "            }"
   ]
  },
  {
   "cell_type": "code",
   "execution_count": 59,
   "metadata": {},
   "outputs": [
    {
     "data": {
      "text/plain": [
       "200"
      ]
     },
     "execution_count": 59,
     "metadata": {},
     "output_type": "execute_result"
    }
   ],
   "source": [
    "res = requests.get(url=endpoint, headers=headers, params=parameter)\n",
    "res.status_code"
   ]
  },
  {
   "cell_type": "code",
   "execution_count": 60,
   "metadata": {},
   "outputs": [
    {
     "data": {
      "text/plain": [
       "50"
      ]
     },
     "execution_count": 60,
     "metadata": {},
     "output_type": "execute_result"
    }
   ],
   "source": [
    "business = res.json()\n",
    "len(business['businesses'])"
   ]
  },
  {
   "cell_type": "code",
   "execution_count": 61,
   "metadata": {},
   "outputs": [],
   "source": [
    "for i in range(len(business['businesses'])):        \n",
    "    names.append(business['businesses'][i]['name'])\n",
    "    categories.append(business['businesses'][i]['categories'][0]['alias'])"
   ]
  },
  {
   "cell_type": "code",
   "execution_count": 62,
   "metadata": {},
   "outputs": [
    {
     "data": {
      "text/plain": [
       "150"
      ]
     },
     "execution_count": 62,
     "metadata": {},
     "output_type": "execute_result"
    }
   ],
   "source": [
    "len(names)"
   ]
  },
  {
   "cell_type": "code",
   "execution_count": 63,
   "metadata": {},
   "outputs": [],
   "source": [
    "endpoint = 'https://api.yelp.com/v3/businesses/search'\n",
    "headers = {'Authorization': 'bearer %s' % API_KEY}\n",
    "parameter = {'categories': ['fueldocks',\n",
    "                            'servicestations',\n",
    "                            'utilities',\n",
    "                            'electricitysuppliers',\n",
    "                            'naturalgassuppliers',\n",
    "                            'watersuppliers'],\n",
    "             'offset': 150,\n",
    "             'limit': 50,\n",
    "             'radius': 40000,\n",
    "             'location': 'Miami',\n",
    "            }"
   ]
  },
  {
   "cell_type": "code",
   "execution_count": 64,
   "metadata": {},
   "outputs": [
    {
     "data": {
      "text/plain": [
       "200"
      ]
     },
     "execution_count": 64,
     "metadata": {},
     "output_type": "execute_result"
    }
   ],
   "source": [
    "res = requests.get(url=endpoint, headers=headers, params=parameter)\n",
    "res.status_code"
   ]
  },
  {
   "cell_type": "code",
   "execution_count": 65,
   "metadata": {},
   "outputs": [
    {
     "data": {
      "text/plain": [
       "50"
      ]
     },
     "execution_count": 65,
     "metadata": {},
     "output_type": "execute_result"
    }
   ],
   "source": [
    "business = res.json()\n",
    "len(business['businesses'])"
   ]
  },
  {
   "cell_type": "code",
   "execution_count": 66,
   "metadata": {},
   "outputs": [],
   "source": [
    "for i in range(len(business['businesses'])):        \n",
    "    names.append(business['businesses'][i]['name'])\n",
    "    categories.append(business['businesses'][i]['categories'][0]['alias'])"
   ]
  },
  {
   "cell_type": "code",
   "execution_count": 67,
   "metadata": {},
   "outputs": [
    {
     "data": {
      "text/plain": [
       "200"
      ]
     },
     "execution_count": 67,
     "metadata": {},
     "output_type": "execute_result"
    }
   ],
   "source": [
    "len(names)"
   ]
  },
  {
   "cell_type": "code",
   "execution_count": 68,
   "metadata": {},
   "outputs": [],
   "source": [
    "endpoint = 'https://api.yelp.com/v3/businesses/search'\n",
    "headers = {'Authorization': 'bearer %s' % API_KEY}\n",
    "parameter = {'categories': ['fueldocks',\n",
    "                            'servicestations',\n",
    "                            'utilities',\n",
    "                            'electricitysuppliers',\n",
    "                            'naturalgassuppliers',\n",
    "                            'watersuppliers'],\n",
    "             'offset': 200,\n",
    "             'limit': 50,\n",
    "             'radius': 40000,\n",
    "             'location': 'Miami',\n",
    "            }"
   ]
  },
  {
   "cell_type": "code",
   "execution_count": 69,
   "metadata": {},
   "outputs": [
    {
     "data": {
      "text/plain": [
       "200"
      ]
     },
     "execution_count": 69,
     "metadata": {},
     "output_type": "execute_result"
    }
   ],
   "source": [
    "res = requests.get(url=endpoint, headers=headers, params=parameter)\n",
    "res.status_code"
   ]
  },
  {
   "cell_type": "code",
   "execution_count": 70,
   "metadata": {},
   "outputs": [
    {
     "data": {
      "text/plain": [
       "12"
      ]
     },
     "execution_count": 70,
     "metadata": {},
     "output_type": "execute_result"
    }
   ],
   "source": [
    "business = res.json()\n",
    "len(business['businesses'])"
   ]
  },
  {
   "cell_type": "code",
   "execution_count": 71,
   "metadata": {},
   "outputs": [],
   "source": [
    "for i in range(len(business['businesses'])):        \n",
    "    names.append(business['businesses'][i]['name'])\n",
    "    categories.append(business['businesses'][i]['categories'][0]['alias'])"
   ]
  },
  {
   "cell_type": "code",
   "execution_count": 72,
   "metadata": {},
   "outputs": [
    {
     "data": {
      "text/plain": [
       "212"
      ]
     },
     "execution_count": 72,
     "metadata": {},
     "output_type": "execute_result"
    }
   ],
   "source": [
    "len(names)"
   ]
  },
  {
   "cell_type": "code",
   "execution_count": 73,
   "metadata": {},
   "outputs": [
    {
     "data": {
      "text/html": [
       "<div>\n",
       "<style scoped>\n",
       "    .dataframe tbody tr th:only-of-type {\n",
       "        vertical-align: middle;\n",
       "    }\n",
       "\n",
       "    .dataframe tbody tr th {\n",
       "        vertical-align: top;\n",
       "    }\n",
       "\n",
       "    .dataframe thead th {\n",
       "        text-align: right;\n",
       "    }\n",
       "</style>\n",
       "<table border=\"1\" class=\"dataframe\">\n",
       "  <thead>\n",
       "    <tr style=\"text-align: right;\">\n",
       "      <th></th>\n",
       "      <th>Business</th>\n",
       "      <th>Category</th>\n",
       "      <th>Lifeline</th>\n",
       "    </tr>\n",
       "  </thead>\n",
       "  <tbody>\n",
       "    <tr>\n",
       "      <th>0</th>\n",
       "      <td>Europa Car Wash and Café</td>\n",
       "      <td>servicestations</td>\n",
       "      <td>4</td>\n",
       "    </tr>\n",
       "    <tr>\n",
       "      <th>1</th>\n",
       "      <td>Coral Gate Mobil</td>\n",
       "      <td>servicestations</td>\n",
       "      <td>4</td>\n",
       "    </tr>\n",
       "    <tr>\n",
       "      <th>2</th>\n",
       "      <td>Westar</td>\n",
       "      <td>servicestations</td>\n",
       "      <td>4</td>\n",
       "    </tr>\n",
       "    <tr>\n",
       "      <th>3</th>\n",
       "      <td>Costco Gasoline</td>\n",
       "      <td>servicestations</td>\n",
       "      <td>4</td>\n",
       "    </tr>\n",
       "    <tr>\n",
       "      <th>4</th>\n",
       "      <td>Viñales Valero</td>\n",
       "      <td>servicestations</td>\n",
       "      <td>4</td>\n",
       "    </tr>\n",
       "  </tbody>\n",
       "</table>\n",
       "</div>"
      ],
      "text/plain": [
       "                   Business         Category  Lifeline\n",
       "0  Europa Car Wash and Café  servicestations         4\n",
       "1          Coral Gate Mobil  servicestations         4\n",
       "2                    Westar  servicestations         4\n",
       "3           Costco Gasoline  servicestations         4\n",
       "4            Viñales Valero  servicestations         4"
      ]
     },
     "execution_count": 73,
     "metadata": {},
     "output_type": "execute_result"
    }
   ],
   "source": [
    "energy_df = pd.DataFrame(columns=['Business', 'Category'])\n",
    "energy_df['Business'] = names\n",
    "energy_df['Category'] = categories\n",
    "energy_df['Lifeline'] = 4\n",
    "energy_df.head()"
   ]
  },
  {
   "cell_type": "markdown",
   "metadata": {},
   "source": [
    "## Lifeline 5 - Communication"
   ]
  },
  {
   "cell_type": "code",
   "execution_count": 74,
   "metadata": {},
   "outputs": [],
   "source": [
    "endpoint = 'https://api.yelp.com/v3/businesses/search'\n",
    "headers = {'Authorization': 'bearer %s' % API_KEY}\n",
    "parameter = {'categories': ['telecommunications',\n",
    "                            'printmedia',\n",
    "                            'radiostations',\n",
    "                            'televisionstations'],\n",
    "             'limit': 50,\n",
    "             'radius': 40000,\n",
    "             'location': 'Miami',\n",
    "            }"
   ]
  },
  {
   "cell_type": "code",
   "execution_count": 75,
   "metadata": {},
   "outputs": [
    {
     "data": {
      "text/plain": [
       "200"
      ]
     },
     "execution_count": 75,
     "metadata": {},
     "output_type": "execute_result"
    }
   ],
   "source": [
    "res = requests.get(url=endpoint, headers=headers, params=parameter)\n",
    "res.status_code"
   ]
  },
  {
   "cell_type": "code",
   "execution_count": 76,
   "metadata": {},
   "outputs": [
    {
     "data": {
      "text/plain": [
       "50"
      ]
     },
     "execution_count": 76,
     "metadata": {},
     "output_type": "execute_result"
    }
   ],
   "source": [
    "business = res.json()\n",
    "len(business['businesses'])"
   ]
  },
  {
   "cell_type": "code",
   "execution_count": 77,
   "metadata": {},
   "outputs": [],
   "source": [
    "names = []\n",
    "categories = []\n",
    "for i in range(len(business['businesses'])):        \n",
    "    names.append(business['businesses'][i]['name'])\n",
    "    categories.append(business['businesses'][i]['categories'][0]['alias'])"
   ]
  },
  {
   "cell_type": "code",
   "execution_count": 78,
   "metadata": {},
   "outputs": [],
   "source": [
    "endpoint = 'https://api.yelp.com/v3/businesses/search'\n",
    "headers = {'Authorization': 'bearer %s' % API_KEY}\n",
    "parameter = {'categories': ['telecommunications',\n",
    "                            'printmedia',\n",
    "                            'radiostations',\n",
    "                            'televisionstations'],\n",
    "             'offset': 50,\n",
    "             'limit': 50,\n",
    "             'radius': 40000,\n",
    "             'location': 'Miami',\n",
    "            }"
   ]
  },
  {
   "cell_type": "code",
   "execution_count": 79,
   "metadata": {},
   "outputs": [
    {
     "data": {
      "text/plain": [
       "200"
      ]
     },
     "execution_count": 79,
     "metadata": {},
     "output_type": "execute_result"
    }
   ],
   "source": [
    "res = requests.get(url=endpoint, headers=headers, params=parameter)\n",
    "res.status_code"
   ]
  },
  {
   "cell_type": "code",
   "execution_count": 80,
   "metadata": {},
   "outputs": [
    {
     "data": {
      "text/plain": [
       "7"
      ]
     },
     "execution_count": 80,
     "metadata": {},
     "output_type": "execute_result"
    }
   ],
   "source": [
    "business = res.json()\n",
    "len(business['businesses'])"
   ]
  },
  {
   "cell_type": "code",
   "execution_count": 81,
   "metadata": {},
   "outputs": [],
   "source": [
    "for i in range(len(business['businesses'])):        \n",
    "    names.append(business['businesses'][i]['name'])\n",
    "    categories.append(business['businesses'][i]['categories'][0]['alias'])"
   ]
  },
  {
   "cell_type": "code",
   "execution_count": 82,
   "metadata": {},
   "outputs": [
    {
     "data": {
      "text/plain": [
       "57"
      ]
     },
     "execution_count": 82,
     "metadata": {},
     "output_type": "execute_result"
    }
   ],
   "source": [
    "len(names)"
   ]
  },
  {
   "cell_type": "code",
   "execution_count": 83,
   "metadata": {},
   "outputs": [
    {
     "data": {
      "text/html": [
       "<div>\n",
       "<style scoped>\n",
       "    .dataframe tbody tr th:only-of-type {\n",
       "        vertical-align: middle;\n",
       "    }\n",
       "\n",
       "    .dataframe tbody tr th {\n",
       "        vertical-align: top;\n",
       "    }\n",
       "\n",
       "    .dataframe thead th {\n",
       "        text-align: right;\n",
       "    }\n",
       "</style>\n",
       "<table border=\"1\" class=\"dataframe\">\n",
       "  <thead>\n",
       "    <tr style=\"text-align: right;\">\n",
       "      <th></th>\n",
       "      <th>Business</th>\n",
       "      <th>Category</th>\n",
       "      <th>Lifeline</th>\n",
       "    </tr>\n",
       "  </thead>\n",
       "  <tbody>\n",
       "    <tr>\n",
       "      <th>0</th>\n",
       "      <td>WLRN 91.3 FM</td>\n",
       "      <td>radiostations</td>\n",
       "      <td>5</td>\n",
       "    </tr>\n",
       "    <tr>\n",
       "      <th>1</th>\n",
       "      <td>ActivePBX</td>\n",
       "      <td>telecommunications</td>\n",
       "      <td>5</td>\n",
       "    </tr>\n",
       "    <tr>\n",
       "      <th>2</th>\n",
       "      <td>Streamline Voice &amp; Data</td>\n",
       "      <td>telecommunications</td>\n",
       "      <td>5</td>\n",
       "    </tr>\n",
       "    <tr>\n",
       "      <th>3</th>\n",
       "      <td>Miami New Times</td>\n",
       "      <td>printmedia</td>\n",
       "      <td>5</td>\n",
       "    </tr>\n",
       "    <tr>\n",
       "      <th>4</th>\n",
       "      <td>WVUM 90.5 FM</td>\n",
       "      <td>radiostations</td>\n",
       "      <td>5</td>\n",
       "    </tr>\n",
       "  </tbody>\n",
       "</table>\n",
       "</div>"
      ],
      "text/plain": [
       "                  Business            Category  Lifeline\n",
       "0             WLRN 91.3 FM       radiostations         5\n",
       "1                ActivePBX  telecommunications         5\n",
       "2  Streamline Voice & Data  telecommunications         5\n",
       "3          Miami New Times          printmedia         5\n",
       "4             WVUM 90.5 FM       radiostations         5"
      ]
     },
     "execution_count": 83,
     "metadata": {},
     "output_type": "execute_result"
    }
   ],
   "source": [
    "communication_df = pd.DataFrame(columns=['Business', 'Category'])\n",
    "communication_df['Business'] = names\n",
    "communication_df['Category'] = categories\n",
    "communication_df['Lifeline'] = 5\n",
    "communication_df.head()"
   ]
  },
  {
   "cell_type": "markdown",
   "metadata": {},
   "source": [
    "## Lifeline 6 - Transportation"
   ]
  },
  {
   "cell_type": "code",
   "execution_count": 84,
   "metadata": {},
   "outputs": [],
   "source": [
    "endpoint = 'https://api.yelp.com/v3/businesses/search'\n",
    "headers = {'Authorization': 'bearer %s' % API_KEY}\n",
    "parameter = {'categories': ['airlines',\n",
    "                            'busstations',\n",
    "                            'ferries',\n",
    "                            'metrostations',\n",
    "                            'publictransport',\n",
    "                            'trains',\n",
    "                            'taxis'],\n",
    "             'limit': 50,\n",
    "             'radius': 40000,\n",
    "             'location': 'Miami',\n",
    "            }"
   ]
  },
  {
   "cell_type": "code",
   "execution_count": 85,
   "metadata": {},
   "outputs": [
    {
     "data": {
      "text/plain": [
       "200"
      ]
     },
     "execution_count": 85,
     "metadata": {},
     "output_type": "execute_result"
    }
   ],
   "source": [
    "res = requests.get(url=endpoint, headers=headers, params=parameter)\n",
    "res.status_code"
   ]
  },
  {
   "cell_type": "code",
   "execution_count": 86,
   "metadata": {},
   "outputs": [
    {
     "data": {
      "text/plain": [
       "50"
      ]
     },
     "execution_count": 86,
     "metadata": {},
     "output_type": "execute_result"
    }
   ],
   "source": [
    "business = res.json()\n",
    "len(business['businesses'])"
   ]
  },
  {
   "cell_type": "code",
   "execution_count": 87,
   "metadata": {},
   "outputs": [],
   "source": [
    "names = []\n",
    "categories = []\n",
    "for i in range(len(business['businesses'])):        \n",
    "    names.append(business['businesses'][i]['name'])\n",
    "    categories.append(business['businesses'][i]['categories'][0]['alias'])"
   ]
  },
  {
   "cell_type": "code",
   "execution_count": 88,
   "metadata": {},
   "outputs": [],
   "source": [
    "endpoint = 'https://api.yelp.com/v3/businesses/search'\n",
    "headers = {'Authorization': 'bearer %s' % API_KEY}\n",
    "parameter = {'categories': ['airlines',\n",
    "                            'busstations',\n",
    "                            'ferries',\n",
    "                            'metrostations',\n",
    "                            'publictransport',\n",
    "                            'trains',\n",
    "                            'taxis'],\n",
    "             'offset': 50,\n",
    "             'limit': 50,\n",
    "             'radius': 40000,\n",
    "             'location': 'Miami',\n",
    "            }"
   ]
  },
  {
   "cell_type": "code",
   "execution_count": 89,
   "metadata": {},
   "outputs": [
    {
     "data": {
      "text/plain": [
       "200"
      ]
     },
     "execution_count": 89,
     "metadata": {},
     "output_type": "execute_result"
    }
   ],
   "source": [
    "res = requests.get(url=endpoint, headers=headers, params=parameter)\n",
    "res.status_code"
   ]
  },
  {
   "cell_type": "code",
   "execution_count": 90,
   "metadata": {},
   "outputs": [
    {
     "data": {
      "text/plain": [
       "50"
      ]
     },
     "execution_count": 90,
     "metadata": {},
     "output_type": "execute_result"
    }
   ],
   "source": [
    "business = res.json()\n",
    "len(business['businesses'])"
   ]
  },
  {
   "cell_type": "code",
   "execution_count": 91,
   "metadata": {},
   "outputs": [],
   "source": [
    "for i in range(len(business['businesses'])):        \n",
    "    names.append(business['businesses'][i]['name'])\n",
    "    categories.append(business['businesses'][i]['categories'][0]['alias'])"
   ]
  },
  {
   "cell_type": "code",
   "execution_count": 92,
   "metadata": {},
   "outputs": [
    {
     "data": {
      "text/plain": [
       "100"
      ]
     },
     "execution_count": 92,
     "metadata": {},
     "output_type": "execute_result"
    }
   ],
   "source": [
    "len(names)"
   ]
  },
  {
   "cell_type": "code",
   "execution_count": 93,
   "metadata": {},
   "outputs": [],
   "source": [
    "endpoint = 'https://api.yelp.com/v3/businesses/search'\n",
    "headers = {'Authorization': 'bearer %s' % API_KEY}\n",
    "parameter = {'categories': ['airlines',\n",
    "                            'busstations',\n",
    "                            'ferries',\n",
    "                            'metrostations',\n",
    "                            'publictransport',\n",
    "                            'trains',\n",
    "                            'taxis'],\n",
    "             'offset': 100,\n",
    "             'limit': 50,\n",
    "             'radius': 40000,\n",
    "             'location': 'Miami',\n",
    "            }"
   ]
  },
  {
   "cell_type": "code",
   "execution_count": 94,
   "metadata": {},
   "outputs": [
    {
     "data": {
      "text/plain": [
       "200"
      ]
     },
     "execution_count": 94,
     "metadata": {},
     "output_type": "execute_result"
    }
   ],
   "source": [
    "res = requests.get(url=endpoint, headers=headers, params=parameter)\n",
    "res.status_code"
   ]
  },
  {
   "cell_type": "code",
   "execution_count": 95,
   "metadata": {},
   "outputs": [
    {
     "data": {
      "text/plain": [
       "14"
      ]
     },
     "execution_count": 95,
     "metadata": {},
     "output_type": "execute_result"
    }
   ],
   "source": [
    "business = res.json()\n",
    "len(business['businesses'])"
   ]
  },
  {
   "cell_type": "code",
   "execution_count": 96,
   "metadata": {},
   "outputs": [],
   "source": [
    "for i in range(len(business['businesses'])):        \n",
    "    names.append(business['businesses'][i]['name'])\n",
    "    categories.append(business['businesses'][i]['categories'][0]['alias'])"
   ]
  },
  {
   "cell_type": "code",
   "execution_count": 97,
   "metadata": {},
   "outputs": [
    {
     "data": {
      "text/plain": [
       "114"
      ]
     },
     "execution_count": 97,
     "metadata": {},
     "output_type": "execute_result"
    }
   ],
   "source": [
    "len(names)"
   ]
  },
  {
   "cell_type": "code",
   "execution_count": 98,
   "metadata": {},
   "outputs": [
    {
     "data": {
      "text/html": [
       "<div>\n",
       "<style scoped>\n",
       "    .dataframe tbody tr th:only-of-type {\n",
       "        vertical-align: middle;\n",
       "    }\n",
       "\n",
       "    .dataframe tbody tr th {\n",
       "        vertical-align: top;\n",
       "    }\n",
       "\n",
       "    .dataframe thead th {\n",
       "        text-align: right;\n",
       "    }\n",
       "</style>\n",
       "<table border=\"1\" class=\"dataframe\">\n",
       "  <thead>\n",
       "    <tr style=\"text-align: right;\">\n",
       "      <th></th>\n",
       "      <th>Business</th>\n",
       "      <th>Category</th>\n",
       "      <th>Lifeline</th>\n",
       "    </tr>\n",
       "  </thead>\n",
       "  <tbody>\n",
       "    <tr>\n",
       "      <th>0</th>\n",
       "      <td>Brightline</td>\n",
       "      <td>trains</td>\n",
       "      <td>6</td>\n",
       "    </tr>\n",
       "    <tr>\n",
       "      <th>1</th>\n",
       "      <td>Airport Flyer Route 150</td>\n",
       "      <td>publictransport</td>\n",
       "      <td>6</td>\n",
       "    </tr>\n",
       "    <tr>\n",
       "      <th>2</th>\n",
       "      <td>Metromover</td>\n",
       "      <td>publictransport</td>\n",
       "      <td>6</td>\n",
       "    </tr>\n",
       "    <tr>\n",
       "      <th>3</th>\n",
       "      <td>Uber</td>\n",
       "      <td>taxis</td>\n",
       "      <td>6</td>\n",
       "    </tr>\n",
       "    <tr>\n",
       "      <th>4</th>\n",
       "      <td>American Airlines</td>\n",
       "      <td>airlines</td>\n",
       "      <td>6</td>\n",
       "    </tr>\n",
       "  </tbody>\n",
       "</table>\n",
       "</div>"
      ],
      "text/plain": [
       "                  Business         Category  Lifeline\n",
       "0               Brightline           trains         6\n",
       "1  Airport Flyer Route 150  publictransport         6\n",
       "2               Metromover  publictransport         6\n",
       "3                     Uber            taxis         6\n",
       "4        American Airlines         airlines         6"
      ]
     },
     "execution_count": 98,
     "metadata": {},
     "output_type": "execute_result"
    }
   ],
   "source": [
    "transportation_df = pd.DataFrame(columns=['Business', 'Category'])\n",
    "transportation_df['Business'] = names\n",
    "transportation_df['Category'] = categories\n",
    "transportation_df['Lifeline'] = 6\n",
    "transportation_df.head()"
   ]
  },
  {
   "cell_type": "markdown",
   "metadata": {},
   "source": [
    "## Lifeline 7 - Hazardous Waste"
   ]
  },
  {
   "cell_type": "code",
   "execution_count": 99,
   "metadata": {},
   "outputs": [],
   "source": [
    "endpoint = 'https://api.yelp.com/v3/businesses/search'\n",
    "headers = {'Authorization': 'bearer %s' % API_KEY}\n",
    "parameter = {'categories': ['biohazardcleanup', 'hazardouswastedisposal'],\n",
    "             'limit': 50,\n",
    "             'radius': 40000,\n",
    "             'location': 'Miami',\n",
    "            }"
   ]
  },
  {
   "cell_type": "code",
   "execution_count": 100,
   "metadata": {},
   "outputs": [
    {
     "data": {
      "text/plain": [
       "200"
      ]
     },
     "execution_count": 100,
     "metadata": {},
     "output_type": "execute_result"
    }
   ],
   "source": [
    "res = requests.get(url=endpoint, headers=headers, params=parameter)\n",
    "res.status_code"
   ]
  },
  {
   "cell_type": "code",
   "execution_count": 101,
   "metadata": {},
   "outputs": [
    {
     "data": {
      "text/plain": [
       "6"
      ]
     },
     "execution_count": 101,
     "metadata": {},
     "output_type": "execute_result"
    }
   ],
   "source": [
    "business = res.json()\n",
    "len(business['businesses'])"
   ]
  },
  {
   "cell_type": "code",
   "execution_count": 102,
   "metadata": {},
   "outputs": [],
   "source": [
    "names = []\n",
    "categories = []\n",
    "for i in range(len(business['businesses'])):        \n",
    "    names.append(business['businesses'][i]['name'])\n",
    "    categories.append(business['businesses'][i]['categories'][0]['alias'])"
   ]
  },
  {
   "cell_type": "code",
   "execution_count": 103,
   "metadata": {},
   "outputs": [
    {
     "data": {
      "text/plain": [
       "6"
      ]
     },
     "execution_count": 103,
     "metadata": {},
     "output_type": "execute_result"
    }
   ],
   "source": [
    "len(names)"
   ]
  },
  {
   "cell_type": "code",
   "execution_count": 104,
   "metadata": {},
   "outputs": [
    {
     "data": {
      "text/html": [
       "<div>\n",
       "<style scoped>\n",
       "    .dataframe tbody tr th:only-of-type {\n",
       "        vertical-align: middle;\n",
       "    }\n",
       "\n",
       "    .dataframe tbody tr th {\n",
       "        vertical-align: top;\n",
       "    }\n",
       "\n",
       "    .dataframe thead th {\n",
       "        text-align: right;\n",
       "    }\n",
       "</style>\n",
       "<table border=\"1\" class=\"dataframe\">\n",
       "  <thead>\n",
       "    <tr style=\"text-align: right;\">\n",
       "      <th></th>\n",
       "      <th>Business</th>\n",
       "      <th>Category</th>\n",
       "      <th>Lifeline</th>\n",
       "    </tr>\n",
       "  </thead>\n",
       "  <tbody>\n",
       "    <tr>\n",
       "      <th>0</th>\n",
       "      <td>United Medical Industries</td>\n",
       "      <td>hazardouswastedisposal</td>\n",
       "      <td>7</td>\n",
       "    </tr>\n",
       "    <tr>\n",
       "      <th>1</th>\n",
       "      <td>Medical Waste Experts</td>\n",
       "      <td>hazardouswastedisposal</td>\n",
       "      <td>7</td>\n",
       "    </tr>\n",
       "    <tr>\n",
       "      <th>2</th>\n",
       "      <td>ServiceMaster by Enterprise</td>\n",
       "      <td>damagerestoration</td>\n",
       "      <td>7</td>\n",
       "    </tr>\n",
       "    <tr>\n",
       "      <th>3</th>\n",
       "      <td>Raider Environmental Services</td>\n",
       "      <td>hazardouswastedisposal</td>\n",
       "      <td>7</td>\n",
       "    </tr>\n",
       "    <tr>\n",
       "      <th>4</th>\n",
       "      <td>ServiceMaster by Reed</td>\n",
       "      <td>damagerestoration</td>\n",
       "      <td>7</td>\n",
       "    </tr>\n",
       "  </tbody>\n",
       "</table>\n",
       "</div>"
      ],
      "text/plain": [
       "                        Business                Category  Lifeline\n",
       "0      United Medical Industries  hazardouswastedisposal         7\n",
       "1          Medical Waste Experts  hazardouswastedisposal         7\n",
       "2    ServiceMaster by Enterprise       damagerestoration         7\n",
       "3  Raider Environmental Services  hazardouswastedisposal         7\n",
       "4          ServiceMaster by Reed       damagerestoration         7"
      ]
     },
     "execution_count": 104,
     "metadata": {},
     "output_type": "execute_result"
    }
   ],
   "source": [
    "waste_df = pd.DataFrame(columns=['Business', 'Category'])\n",
    "waste_df['Business'] = names\n",
    "waste_df['Category'] = categories\n",
    "waste_df['Lifeline'] = 7\n",
    "waste_df.head()"
   ]
  },
  {
   "cell_type": "markdown",
   "metadata": {},
   "source": [
    "## Put All of the Lifeline Businesses Together Into One Dataframe"
   ]
  },
  {
   "cell_type": "code",
   "execution_count": 110,
   "metadata": {},
   "outputs": [],
   "source": [
    "miami_df = pd.concat([safety_df,\n",
    "                      food_shelter_df,\n",
    "                      health_med_df,\n",
    "                      energy_df,\n",
    "                      communication_df,\n",
    "                      transportation_df,\n",
    "                      waste_df], axis=0, ignore_index=True)"
   ]
  },
  {
   "cell_type": "code",
   "execution_count": 111,
   "metadata": {},
   "outputs": [
    {
     "data": {
      "text/plain": [
       "(706, 3)"
      ]
     },
     "execution_count": 111,
     "metadata": {},
     "output_type": "execute_result"
    }
   ],
   "source": [
    "miami_df.shape"
   ]
  },
  {
   "cell_type": "code",
   "execution_count": 112,
   "metadata": {},
   "outputs": [
    {
     "data": {
      "text/plain": [
       "3    300\n",
       "4    212\n",
       "6    114\n",
       "5     57\n",
       "2      9\n",
       "1      8\n",
       "7      6\n",
       "Name: Lifeline, dtype: int64"
      ]
     },
     "execution_count": 112,
     "metadata": {},
     "output_type": "execute_result"
    }
   ],
   "source": [
    "miami_df.Lifeline.value_counts()"
   ]
  },
  {
   "cell_type": "code",
   "execution_count": 113,
   "metadata": {},
   "outputs": [
    {
     "data": {
      "text/html": [
       "<div>\n",
       "<style scoped>\n",
       "    .dataframe tbody tr th:only-of-type {\n",
       "        vertical-align: middle;\n",
       "    }\n",
       "\n",
       "    .dataframe tbody tr th {\n",
       "        vertical-align: top;\n",
       "    }\n",
       "\n",
       "    .dataframe thead th {\n",
       "        text-align: right;\n",
       "    }\n",
       "</style>\n",
       "<table border=\"1\" class=\"dataframe\">\n",
       "  <thead>\n",
       "    <tr style=\"text-align: right;\">\n",
       "      <th></th>\n",
       "      <th>Business</th>\n",
       "      <th>Category</th>\n",
       "      <th>Lifeline</th>\n",
       "    </tr>\n",
       "  </thead>\n",
       "  <tbody>\n",
       "    <tr>\n",
       "      <th>0</th>\n",
       "      <td>Miami Dade Police - Kendall Station</td>\n",
       "      <td>policedepartments</td>\n",
       "      <td>1</td>\n",
       "    </tr>\n",
       "    <tr>\n",
       "      <th>1</th>\n",
       "      <td>Miami Police Department</td>\n",
       "      <td>policedepartments</td>\n",
       "      <td>1</td>\n",
       "    </tr>\n",
       "    <tr>\n",
       "      <th>2</th>\n",
       "      <td>MDPD Headquarters</td>\n",
       "      <td>policedepartments</td>\n",
       "      <td>1</td>\n",
       "    </tr>\n",
       "    <tr>\n",
       "      <th>3</th>\n",
       "      <td>Miami-Dade Police</td>\n",
       "      <td>policedepartments</td>\n",
       "      <td>1</td>\n",
       "    </tr>\n",
       "    <tr>\n",
       "      <th>4</th>\n",
       "      <td>Miami Dade Fire Rescue HQ</td>\n",
       "      <td>firedepartments</td>\n",
       "      <td>1</td>\n",
       "    </tr>\n",
       "    <tr>\n",
       "      <th>5</th>\n",
       "      <td>Doral Police Department</td>\n",
       "      <td>policedepartments</td>\n",
       "      <td>1</td>\n",
       "    </tr>\n",
       "    <tr>\n",
       "      <th>6</th>\n",
       "      <td>City of Sweetwater Building Dpt.</td>\n",
       "      <td>policedepartments</td>\n",
       "      <td>1</td>\n",
       "    </tr>\n",
       "    <tr>\n",
       "      <th>7</th>\n",
       "      <td>Dade County Police Benevolent Association</td>\n",
       "      <td>policedepartments</td>\n",
       "      <td>1</td>\n",
       "    </tr>\n",
       "    <tr>\n",
       "      <th>8</th>\n",
       "      <td>Animal Welfare Society of South Florida</td>\n",
       "      <td>vet</td>\n",
       "      <td>2</td>\n",
       "    </tr>\n",
       "    <tr>\n",
       "      <th>9</th>\n",
       "      <td>The Cat Network</td>\n",
       "      <td>animalshelters</td>\n",
       "      <td>2</td>\n",
       "    </tr>\n",
       "  </tbody>\n",
       "</table>\n",
       "</div>"
      ],
      "text/plain": [
       "                                    Business           Category  Lifeline\n",
       "0        Miami Dade Police - Kendall Station  policedepartments         1\n",
       "1                    Miami Police Department  policedepartments         1\n",
       "2                          MDPD Headquarters  policedepartments         1\n",
       "3                          Miami-Dade Police  policedepartments         1\n",
       "4                  Miami Dade Fire Rescue HQ    firedepartments         1\n",
       "5                    Doral Police Department  policedepartments         1\n",
       "6           City of Sweetwater Building Dpt.  policedepartments         1\n",
       "7  Dade County Police Benevolent Association  policedepartments         1\n",
       "8    Animal Welfare Society of South Florida                vet         2\n",
       "9                            The Cat Network     animalshelters         2"
      ]
     },
     "execution_count": 113,
     "metadata": {},
     "output_type": "execute_result"
    }
   ],
   "source": [
    "miami_df.head(10)"
   ]
  },
  {
   "cell_type": "code",
   "execution_count": 115,
   "metadata": {},
   "outputs": [],
   "source": [
    "import matplotlib.pyplot as plt"
   ]
  },
  {
   "cell_type": "code",
   "execution_count": 159,
   "metadata": {},
   "outputs": [],
   "source": [
    "lifelines = ['Safety / Security',\n",
    "             'Food / Sheltering',\n",
    "             'Health / Medical',\n",
    "             'Energy',\n",
    "             'Communication',\n",
    "             'Transportation',\n",
    "             'Hazardous Waste']\n",
    "\n",
    "counts = [8, 9, 300, 212, 57, 114, 6]"
   ]
  },
  {
   "cell_type": "markdown",
   "metadata": {},
   "source": [
    "# "
   ]
  },
  {
   "cell_type": "code",
   "execution_count": 163,
   "metadata": {},
   "outputs": [
    {
     "data": {
      "image/png": "[encoded data removed]",
      "text/plain": [
       "<Figure size 576x576 with 1 Axes>"
      ]
     },
     "metadata": {
      "needs_background": "light"
     },
     "output_type": "display_data"
    }
   ],
   "source": [
    "plt.figure(figsize=(8, 8))\n",
    "plt.bar(lifelines, counts)\n",
    "plt.xticks(fontsize=15, rotation=90)\n",
    "plt.yticks(fontsize=15);"
   ]
  },
  {
   "cell_type": "code",
   "execution_count": null,
   "metadata": {},
   "outputs": [],
   "source": []
  }
 ],
 "metadata": {
  "kernelspec": {
   "display_name": "Python 3",
   "language": "python",
   "name": "python3"
  },
  "language_info": {
   "codemirror_mode": {
    "name": "ipython",
    "version": 3
   },
   "file_extension": ".py",
   "mimetype": "text/x-python",
   "name": "python",
   "nbconvert_exporter": "python",
   "pygments_lexer": "ipython3",
   "version": "3.6.8"
  }
 },
 "nbformat": 4,
 "nbformat_minor": 2
}
